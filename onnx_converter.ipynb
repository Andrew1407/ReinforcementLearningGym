{
 "cells": [
  {
   "cell_type": "code",
   "execution_count": 1,
   "metadata": {},
   "outputs": [],
   "source": [
    "import keras\n",
    "\n",
    "import numpy as np\n",
    "import os\n",
    "\n",
    "import tf2onnx\n",
    "import onnxruntime"
   ]
  },
  {
   "cell_type": "code",
   "execution_count": 29,
   "metadata": {},
   "outputs": [],
   "source": [
    "keras_model_dir = 'cart_pole_tf_1'\n",
    "keras_model_name = 'target_net_1000'\n",
    "\n",
    "onnx_format = '.onnx'\n",
    "onnx_model_dir = 'onnx'\n",
    "onnx_model_name = keras_model_dir + '_' + keras_model_name\n",
    "\n",
    "keras_model_path = keras_model_dir + '/' + keras_model_name\n",
    "onnx_model_path = f'{onnx_model_dir}/{onnx_model_name}{onnx_format}'"
   ]
  },
  {
   "cell_type": "code",
   "execution_count": 3,
   "metadata": {},
   "outputs": [],
   "source": [
    "keras_model = keras.models.load_model(keras_model_path, compile=False)"
   ]
  },
  {
   "cell_type": "code",
   "execution_count": null,
   "metadata": {},
   "outputs": [],
   "source": [
    "if not os.path.exists(onnx_model_dir): os.mkdir(onnx_model_dir)\n",
    "\n",
    "tf2onnx.convert.from_keras(model=keras_model, output_path=onnx_model_path)"
   ]
  },
  {
   "cell_type": "code",
   "execution_count": 30,
   "metadata": {},
   "outputs": [],
   "source": [
    "session = onnxruntime.InferenceSession(onnx_model_path)"
   ]
  },
  {
   "cell_type": "code",
   "execution_count": 31,
   "metadata": {},
   "outputs": [
    {
     "data": {
      "text/plain": [
       "('input_4', ['unk__41', 4])"
      ]
     },
     "execution_count": 31,
     "metadata": {},
     "output_type": "execute_result"
    }
   ],
   "source": [
    "input_name = session.get_inputs()[0].name\n",
    "input_shape = session.get_inputs()[0].shape\n",
    "\n",
    "input_name, input_shape"
   ]
  },
  {
   "cell_type": "code",
   "execution_count": 50,
   "metadata": {},
   "outputs": [
    {
     "data": {
      "text/plain": [
       "([array([[-1254.9503 ,    14.35198]], dtype=float32)],\n",
       " array([[1]], dtype=int64))"
      ]
     },
     "execution_count": 50,
     "metadata": {},
     "output_type": "execute_result"
    }
   ],
   "source": [
    "# example_input = np.array([[4], [8]], dtype=np.float32)\n",
    "example_input = np.array([[-1.0, -2.0, 1.0, 2.0]], dtype=np.float32)\n",
    "\n",
    "output = session.run(None, { input_name: example_input })\n",
    "\n",
    "action = np.argmax(output, axis=2)\n",
    "output, action"
   ]
  }
 ],
 "metadata": {
  "kernelspec": {
   "display_name": "venv",
   "language": "python",
   "name": "python3"
  },
  "language_info": {
   "codemirror_mode": {
    "name": "ipython",
    "version": 3
   },
   "file_extension": ".py",
   "mimetype": "text/x-python",
   "name": "python",
   "nbconvert_exporter": "python",
   "pygments_lexer": "ipython3",
   "version": "3.9.7"
  },
  "orig_nbformat": 4
 },
 "nbformat": 4,
 "nbformat_minor": 2
}
